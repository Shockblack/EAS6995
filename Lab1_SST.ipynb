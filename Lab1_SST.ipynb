{
 "cells": [
  {
   "cell_type": "code",
   "execution_count": 5,
   "metadata": {},
   "outputs": [
    {
     "name": "stdout",
     "output_type": "stream",
     "text": [
      "65160\n"
     ]
    }
   ],
   "source": [
    "import numpy as np\n",
    "import gzip\n",
    "import requests\n",
    "\n",
    "# Getting 1961-1990 HadISST1 SST data in ASCII format\n",
    "file_url = 'https://www.metoffice.gov.uk/hadobs/hadisst/data/HadISST1_SST_1961-1990.txt.gz'\n",
    "\n",
    "# This is pretty brute force, but it works without needing to download locally\n",
    "data = []\n",
    "headers = []\n",
    "\n",
    "with requests.get(file_url, stream=True) as r:\n",
    "    extracted = gzip.decompress(r.content)\n",
    "    for i, line in enumerate(extracted.decode('utf-8').split('\\n')):\n",
    "        if i % 181 != 0:\n",
    "            # Data is seperated every 6 characters\n",
    "            split_line = [(line[k:k+6]).strip() for k in range(0, len(line), 6)]\n",
    "            data.append(split_line)\n",
    "        else:\n",
    "            split_line = line.split()\n",
    "            headers.append(split_line)\n",
    "\n",
    "# Convert data to numpy array w/ int\n",
    "data = np.array(data)\n",
    "data = data.astype(int)\n",
    "\n",
    "# Convert headers to numpy array, remove last row (it's blank)\n",
    "# and only keep first 3 columns\n",
    "headers = np.array(headers[:-1])[:, :3]"
   ]
  },
  {
   "cell_type": "markdown",
   "metadata": {},
   "source": [
    "### Data Format\n",
    "1. Land is set to bit -32768\n",
    "2. Temperatures are in units of C * 100\n",
    "3. 100% sea-ice-covered flagged as -1000"
   ]
  },
  {
   "cell_type": "code",
   "execution_count": null,
   "metadata": {},
   "outputs": [],
   "source": [
    "# This is now structured by month x latitude x longitude\n",
    "data = data.reshape((360, 180, 360))"
   ]
  }
 ],
 "metadata": {
  "kernelspec": {
   "display_name": "py312",
   "language": "python",
   "name": "python3"
  },
  "language_info": {
   "codemirror_mode": {
    "name": "ipython",
    "version": 3
   },
   "file_extension": ".py",
   "mimetype": "text/x-python",
   "name": "python",
   "nbconvert_exporter": "python",
   "pygments_lexer": "ipython3",
   "version": "3.12.3"
  }
 },
 "nbformat": 4,
 "nbformat_minor": 2
}
